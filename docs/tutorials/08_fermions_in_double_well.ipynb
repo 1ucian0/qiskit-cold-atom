{
 "cells": [
  {
   "cell_type": "markdown",
   "metadata": {},
   "source": [
    "# Tunneling of fermionic atoms"
   ]
  },
  {
   "cell_type": "markdown",
   "metadata": {},
   "source": [
    "In this notebook we take a look at how fermionic atoms can tunnel in cold atomic experiments, based on the paper \"Two Fermions in a Double Well: Exploring a Fundamental Building Block of the Hubbard Model\" from the Jochim group [[1]](#References). In these experiments, two fermions of different spins are put into a single tweezer and then coupled to a second tweezer. The paper [[1]](#References) shows experimental data on how the atom number in the second tweezer evolves with time. It is therefore a very pedagogical example that exemplifies the possibilities of controlling single fermions in cold atomic gases.\n",
    "\n",
    "As mentioned in the [third tutorial](./03_fermionic_tweezer_hardware.ipynb#Gates-and-dynamics), the physical dynamics of the 1-D tweezer array are governed by a Fermi-Hubbard Hamiltonian in second quantization: \n",
    "\n",
    "$$ \n",
    " H_{\\text{FH}}(\\boldsymbol{J},U,\\boldsymbol{\\Delta}) =  \\underbrace{-J\\sum_{\\sigma}(f^\\dagger_{L,\\sigma} f_{R,\\sigma} + f^\\dagger_{R,\\sigma} f_{L,\\sigma} )}_{\\text{Tunneling/Hopping}} + \\underbrace{U \\left( n_{L,\\uparrow}n_{L,\\downarrow}+n_{R,\\uparrow}n_{R,\\downarrow}\\right)}_{\\text{interaction}} + \\underbrace{\\Delta\\left(\\sum_{\\sigma}(n_{L,\\sigma}-n_{R,\\sigma} \\right)}_{\\text{potential offset}} \n",
    "$$\n",
    "\n",
    "Here, $f_{i,\\sigma}, f^\\dagger_{i,\\sigma}$ are annihilation/creation operators for atoms in tweezers at site $i=L, R$ (left/right) with spin $\\sigma$ and $n_{i,\\sigma} = f^\\dagger_{i,\\sigma} f_{i,\\sigma}$ is the number operator. Note that here, we replaced $\\mu$ by $\\Delta$ to adapt to the notation of the paper [[1]](#References). The details about the different terms in the Hamiltonian are available in the [third tutorial](./03_fermionic_tweezer_hardware.ipynb#Gates-and-dynamics).\n",
    "\n",
    "This notebook is structured as follows:\n",
    "1. We will understand the experiments in a simple Hamiltonian description that includes only four levels and compare the predictions to the experimental data.\n",
    "2. We will then show how you can simulate these experiments on your own laptop through `qiskit_cold_atom`.\n",
    "3. In the last section, we show how to send such calculations to a cloud simulator."
   ]
  },
  {
   "cell_type": "code",
   "execution_count": 1,
   "metadata": {},
   "outputs": [],
   "source": [
    "import numpy as np\n",
    "import matplotlib.pyplot as plt"
   ]
  },
  {
   "cell_type": "markdown",
   "metadata": {},
   "source": [
    "## Analytical prediction"
   ]
  },
  {
   "cell_type": "markdown",
   "metadata": {},
   "source": [
    "The evolution of the fermions under the Fermi-Hubbard Hamiltonian preserves the total number of particles, the total number of spin up particles and the total number of spin down particles. Owing to these conserved quantities, the Hamiltonian takes a block diagonal form in the occupation number basis. These blocks represent various sectors which are not coupled by the Hamiltonian.\n",
    "\n",
    "For the current example we initialize the system in the sector $N=2,S_z=0$ (two atoms : one each for spin up and down). The dynamics of the system are limited to this subspace which is 4-dimensional. The Hamiltonian matrix in the subspace can be written down in the occupation number basis $\\{LL, LR, RL, RR\\}$ as:\n",
    "$$\n",
    "H = \\left(\\begin{array}{cccc}\n",
    "U+2\\Delta & -J & -J & 0\\\\\n",
    "-J & 0 & 0 &-J\\\\\n",
    "-J & 0 & 0 &-J\\\\\n",
    "0 & -J & -J & U-2\\Delta\n",
    "            \\end{array}\n",
    "            \\right)\n",
    "$$ \n",
    "\n",
    "where $L$ and $R$ denote the left and right tweezer respectively. In the remainder of the notebook, we consider the case for $\\Delta = 0$, so the Hamiltonian matrix reads:\n",
    "\n",
    "$$\n",
    "H = \\left(\\begin{array}{cccc}\n",
    "U & -J & -J & 0\\\\\n",
    "-J & 0 & 0 &-J\\\\\n",
    "-J & 0 & 0 &-J\\\\\n",
    "0 & -J & -J & U\n",
    "            \\end{array}\n",
    "            \\right)\n",
    "$$\n",
    "\n",
    "The experimental sequence is the following:\n",
    "\n",
    "1. Both atoms are prepared in the left tweezer, such that the initial state is the basis state $|\\psi(0)\\rangle = |LL\\rangle$.\n",
    "2. The atoms evolve under the Hamiltonian $H$ with the parameters $J/\\hbar = \\pi \\cdot 134$  and $U = 0.7\\cdot J$ or $U=0$ (later called the non-interacting case).\n",
    "3. The number of atoms in the right tweezer is read out in the end.\n",
    "\n",
    "Given the simple matrix structure of the problem we can directly solve it by computing the time evolution, i.e., exponentiating the Hamiltonian."
   ]
  },
  {
   "cell_type": "code",
   "execution_count": 2,
   "metadata": {},
   "outputs": [],
   "source": [
    "# the experimental parameters\n",
    "J = np.pi * 134  # hopping parameter in units of hbar\n",
    "U = 0.7 * J  # interaction parameter\n",
    "\n",
    "Nt_an = 50  # number of time steps for plotting\n",
    "t_analytical = np.linspace(0, 25, Nt_an) * 1e-3  # evolution times"
   ]
  },
  {
   "cell_type": "markdown",
   "metadata": {},
   "source": [
    "Let's define the Hamiltonian matrices as well as the initial state."
   ]
  },
  {
   "cell_type": "code",
   "execution_count": 3,
   "metadata": {},
   "outputs": [],
   "source": [
    "H_with_int = np.array([[U, -J, -J, 0], [-J, 0, 0, -J], [-J, 0, 0, -J], [0, -J, -J, U]])\n",
    "H_wo_int = np.array([[0, -J, -J, 0], [-J, 0, 0, -J], [-J, 0, 0, -J], [0, -J, -J, 0]])\n",
    "\n",
    "psi0 = np.zeros(4) * 1j\n",
    "psi0[0] = 1.0"
   ]
  },
  {
   "cell_type": "markdown",
   "metadata": {},
   "source": [
    "Now, we have assembled all the necessary tools to directly calculate the probabilites of the different occupation numbers from:\n",
    "\n",
    "$$\n",
    "|\\psi(t)\\rangle = e^{-i \\hat{H}t/\\hbar}|\\psi(0)\\rangle\n",
    "$$"
   ]
  },
  {
   "cell_type": "code",
   "execution_count": 4,
   "metadata": {},
   "outputs": [],
   "source": [
    "from scipy.linalg import expm\n",
    "\n",
    "psis_wo_int = 1j * np.zeros((4, Nt_an))\n",
    "psis_w_int = 1j * np.zeros((4, Nt_an))\n",
    "\n",
    "for i, ti  in enumerate(t_analytical):\n",
    "\n",
    "    U_wo = expm(-1j * ti * H_wo_int)\n",
    "    psis_wo_int[:, i] = np.dot(U_wo, psi0)\n",
    "\n",
    "    U_w = expm(-1j * ti * H_with_int)\n",
    "    psis_w_int[:, i] = np.dot(U_w, psi0)\n",
    "\n",
    "pops_wo = np.abs(psis_wo_int) ** 2\n",
    "pops_w = np.abs(psis_w_int) ** 2"
   ]
  },
  {
   "cell_type": "markdown",
   "metadata": {},
   "source": [
    "In the final step, we have to assamble the observed quantity, i.e., the expectation value of the atoms in the right tweezer $\\langle \\hat{n}_{,R} \\rangle$, from the calculated probabilities."
   ]
  },
  {
   "cell_type": "code",
   "execution_count": 5,
   "metadata": {},
   "outputs": [],
   "source": [
    "nR_wo = pops_wo[1, :] + pops_wo[2, :] + 2 * pops_wo[3, :]\n",
    "nR_w = pops_w[1, :] + pops_w[2, :] + 2 * pops_w[3, :];"
   ]
  },
  {
   "cell_type": "markdown",
   "metadata": {},
   "source": [
    "At this stage, we are now ready to compare our calculations to the experimental observations, which we have extracted from the paper saved in the following arrays."
   ]
  },
  {
   "cell_type": "code",
   "execution_count": 6,
   "metadata": {},
   "outputs": [],
   "source": [
    "# raw values on experiments without interactions from the paper by Murmann et al.\n",
    "no_int_time = np.array(\n",
    "    [0.0, 0.84951456, 1.52912621, 2.20873786, 3.05825243, 4.0776699, 4.75728155, 5.26699029, 6.28640777, 6.7961165, 7.64563107, 8.32524272, 9.00485437, 9.85436893, 10.53398058, 11.38349515, 12.0631068, 12.74271845, 13.4223301, 14.27184466, 14.95145631, 15.80097087, 16.48058252, 17.16019417, 18.00970874, 18.68932039, 19.53883495, 20.2184466, 21.06796117, 21.74757282, 22.42718447, 23.27669903, 23.95631068, 24.80582524,]\n",
    ")\n",
    "\n",
    "no_int_nR = np.array(\n",
    "    [0.07042254, 0.56338028, 1.23943662, 1.43661972, 1.8028169, 1.57746479, 1.22535211, 0.81690141, 0.42253521, 0.21126761, 0.07042254, 0.43661972, 0.73239437, 1.33802817, 1.66197183, 1.66197183, 1.36619718, 0.85915493, 0.6056338, 0.07042254, 0.14084507, 0.42253521, 0.67605634, 1.28169014, 1.36619718, 1.54929577, 1.4084507, 1.07042254, 0.57746479, 0.36619718, 0.1971831, 0.28169014, 0.49295775, 0.92957746,]\n",
    ")\n",
    "\n",
    "# raw values on experiments with interactions from the paper by Murmann et al.\n",
    "with_int_time = np.array(\n",
    "    [-0.16990291, 0.84951456, 1.52912621, 2.03883495, 2.88834951, 3.73786408, 4.41747573, 5.94660194, 5.09708738, 6.62621359, 7.47572816, 8.15533981, 9.00485437, 9.68446602, 10.53398058, 11.21359223, 11.89320388, 12.74271845, 13.4223301, 14.27184466, 14.95145631, 15.63106796, 16.48058252, 17.16019417, 18.00970874, 18.68932039, 19.36893204, 20.2184466, 21.06796117, 21.74757282, 22.42718447, 23.27669903, 23.95631068, 24.63592233, 25.48543689, 26.16504854, 27.01456311, 27.69417476,]\n",
    ")\n",
    "\n",
    "with_int_nR = np.array(\n",
    "    [0.06896552, 0.35862069, 1.00689655, 1.35172414, 1.42068966, 1.35172414, 1.28275862, 1.00689655, 0.85517241, 0.56551724, 0.35862069, 0.57931034, 0.8, 0.8, 0.99310345, 1.2, 1.14482759, 0.99310345, 1.46206897, 1.43448276, 1.48965517, 1.07586207, 0.92413793, 0.75862069, 0.28965517, 0.4, 0.60689655, 0.64827586, 1.42068966, 1.35172414, 1.25517241, 1.35172414, 1.06206897, 0.71724138, 0.42758621, 0.28965517, 0.37241379, 0.35862069,]\n",
    ")"
   ]
  },
  {
   "cell_type": "markdown",
   "metadata": {},
   "source": [
    "And now, we can observe a beautiful agreement between the predicted evolution and the experimentally observed quantities:"
   ]
  },
  {
   "cell_type": "code",
   "execution_count": 7,
   "metadata": {},
   "outputs": [
    {
     "data": {
      "image/png": "[encoded data removed]",
      "text/plain": [
       "<Figure size 864x432 with 2 Axes>"
      ]
     },
     "metadata": {
      "needs_background": "light"
     },
     "output_type": "display_data"
    }
   ],
   "source": [
    "f, (ax1, ax2) = plt.subplots(\n",
    "    2, 1, sharex=True, sharey=True, figsize=(12, 6), constrained_layout=True\n",
    ")\n",
    "\n",
    "ax1.plot(no_int_time, no_int_nR, \"ro\", label=\"experiment\", markersize=4)\n",
    "ax1.plot(t_analytical * 1e3, nR_wo, \"r-\", label=\"analytical\", linewidth=4, alpha=0.5)\n",
    "\n",
    "ax2.plot(with_int_time, with_int_nR, \"bo\", label=\"experiment\", markersize=4)\n",
    "ax2.plot(t_analytical * 1e3, nR_w, \"b-\", label=\"analytical\", linewidth=4, alpha=0.5)\n",
    "\n",
    "ax1.set_ylabel(r\"atoms in right tweezer\")\n",
    "ax2.set_ylabel(r\"atoms in right tweezer\")\n",
    "ax2.set_xlabel(r\"time (ms)\")\n",
    "# ax2.set_xlim(0, 20)\n",
    "ax1.set_title(r\"Hopping without interactions ($U=0$)\")\n",
    "ax2.set_title(r\"Hopping with interactions ($U=0.7*J$)\")\n",
    "ax1.legend()\n",
    "ax2.legend()\n",
    "ax1.grid()\n",
    "ax2.grid()"
   ]
  },
  {
   "cell_type": "markdown",
   "metadata": {},
   "source": [
    "These dynamics have an intuitive explanation: Without interaction, both atoms tunnel back and forth between $|L\\rangle$ and $|R\\rangle$ at the same rate, which leads to sinusoidal interactions. With interaction, the atoms repel each other (as $U>0$) whichs forms a complicated beating pattern of the tunneling. "
   ]
  },
  {
   "cell_type": "markdown",
   "metadata": {},
   "source": [
    "## Simulation with `qiskit_cold_atom`\n",
    "\n",
    "While the previous approach works out quite nicely for this simple example, it requires the user to have a good understanding of the numerical methods, which are adapted to simulate the experiment and does not connect directly to the gate based approach. We will now show that the experiment presented above can be described in a circuit language using `qiskit_cold_atom`. For a first introduction to fermionic circuits, please see the [first tutorial](./01_introduction_and_fermionic_circuits.ipynb)."
   ]
  },
  {
   "cell_type": "code",
   "execution_count": 8,
   "metadata": {},
   "outputs": [],
   "source": [
    "from qiskit_cold_atom.fermions import FermionSimulator\n",
    "from qiskit_cold_atom.fermions.fermion_gate_library import FermiHubbard\n",
    "from qiskit_nature.operators.second_quantization import FermionicOp\n",
    "from qiskit.circuit import Parameter\n",
    "\n",
    "backend = FermionSimulator()"
   ]
  },
  {
   "cell_type": "markdown",
   "metadata": {},
   "source": [
    "For a circuit description of the two-tweezer experiment, we first initialize the circuit with the correct number and location of atoms. Then we apply a Fermi-Hubbard gate which captures the full dynamics of the system. "
   ]
  },
  {
   "cell_type": "code",
   "execution_count": 9,
   "metadata": {},
   "outputs": [
    {
     "data": {
      "image/png": "[encoded data removed]",
      "text/plain": [
       "<Figure size 585.26x260.064 with 1 Axes>"
      ]
     },
     "execution_count": 9,
     "metadata": {},
     "output_type": "execute_result"
    }
   ],
   "source": [
    "hop_param = Parameter(\"hop_param\")\n",
    "int_param = Parameter(\"int_param\")\n",
    "\n",
    "# initialize one spin-up and one spin-down atom in the left tweezer\n",
    "qc = backend.initialize_circuit([[1, 0], [1, 0]])\n",
    "# apply a global Fermi-Hubbard gate with interaction\n",
    "qc.FH(j=[hop_param], u=int_param, mu=[0],modes=range(4))\n",
    "\n",
    "qc.measure_all()\n",
    "\n",
    "qc.draw(output=\"mpl\", scale=0.8)"
   ]
  },
  {
   "cell_type": "markdown",
   "metadata": {},
   "source": [
    "To directly simulate the experiment, we can define the measured observable and then run a list of circuits with different evolution times on the simulator backend. "
   ]
  },
  {
   "cell_type": "code",
   "execution_count": 10,
   "metadata": {},
   "outputs": [
    {
     "name": "stderr",
     "output_type": "stream",
     "text": [
      "C:\\Users\\LAURIN~1\\AppData\\Local\\Temp/ipykernel_26816/3726301214.py:2: UserWarning: The default value for `display_format` will be changed from 'dense' to 'sparse' in version 0.3.0. Once that happens, you must specify display_format='dense' directly.\n",
      "  NR = FermionicOp(\"INII\") + FermionicOp(\"IIIN\")\n"
     ]
    }
   ],
   "source": [
    "# define the observable: Total number of atoms (both up and down) in the right tweezer \n",
    "NR = FermionicOp(\"INII\") + FermionicOp(\"IIIN\")\n",
    "\n",
    "Ntimes = 50\n",
    "times = np.linspace(0, 25, Ntimes) * 1e-3"
   ]
  },
  {
   "cell_type": "code",
   "execution_count": 11,
   "metadata": {},
   "outputs": [],
   "source": [
    "# create list of circuits without interaction\n",
    "circuits_no_int = [qc.bind_parameters({hop_param: J*t, int_param: 0}) for t in times]\n",
    "# measure the observable from simulated shots\n",
    "means_no_int = backend.measure_observable_expectation(circuits_no_int, observable=NR, shots=1000)"
   ]
  },
  {
   "cell_type": "code",
   "execution_count": 12,
   "metadata": {},
   "outputs": [],
   "source": [
    "# create list of circuits without interaction\n",
    "circuits_int = [qc.bind_parameters({hop_param: J*t, int_param: U*t}) for t in times]\n",
    "# measure the observable from simulated shots\n",
    "means_int = backend.measure_observable_expectation(circuits_int, observable=NR, shots=1000)"
   ]
  },
  {
   "cell_type": "markdown",
   "metadata": {},
   "source": [
    "Let's compare the Qiskit simulations to the experimental data and the numerical model from above:"
   ]
  },
  {
   "cell_type": "code",
   "execution_count": 13,
   "metadata": {},
   "outputs": [
    {
     "data": {
      "image/png": "[encoded data removed]",
      "text/plain": [
       "<Figure size 864x432 with 2 Axes>"
      ]
     },
     "metadata": {
      "needs_background": "light"
     },
     "output_type": "display_data"
    }
   ],
   "source": [
    "f, (ax1, ax2) = plt.subplots(\n",
    "    2, 1, sharex=True, sharey=True, figsize=(12, 6), constrained_layout=True\n",
    ")\n",
    "\n",
    "\n",
    "ax1.plot(times * 1e3, means_no_int, \"r-\", label=\"qiskit\", linewidth=4, alpha=0.5)\n",
    "ax1.plot(t_analytical * 1e3, nR_wo, \"rx\", label=\"analytical\", linewidth=4, alpha=0.5)\n",
    "ax1.plot(no_int_time, no_int_nR, \"ro\", label=\"experiment\", markersize=4)\n",
    "\n",
    "ax2.plot(times * 1e3, means_int, \"b-\", label=\"qiskit\", linewidth=4, alpha=0.5)\n",
    "ax2.plot(t_analytical * 1e3, nR_w, \"bx\", label=\"analytical\", linewidth=4, alpha=0.5)\n",
    "ax2.plot(with_int_time, with_int_nR, \"bo\", label=\"experiment\", markersize=4)\n",
    "ax1.set_ylabel(r\"atoms in right tweezer\")\n",
    "ax2.set_ylabel(r\"atoms in right tweezer\")\n",
    "ax2.set_xlabel(r\"time (ms)\")\n",
    "ax1.legend(loc=\"upper right\")\n",
    "ax2.legend(loc=\"upper right\")\n",
    "# ax1.set_xlim(-1, 20)\n",
    "ax1.set_title(r\"Hopping without interactions ($U=0$)\")\n",
    "ax2.set_title(r\"Hopping with interactions ($U=0.7*J$)\")\n",
    "ax1.grid()\n",
    "ax2.grid();"
   ]
  },
  {
   "cell_type": "markdown",
   "metadata": {},
   "source": [
    "We see that Qiskit's simulator allows to obtain the analytical predicition in an easy and intuitive way. The slight deviations arise from the sampling with a finite shot number."
   ]
  },
  {
   "cell_type": "markdown",
   "metadata": {},
   "source": [
    "## Optional: Working on a cloud simulator\n",
    "\n",
    "We would also like to send such circuits to some real hardware and investigate these results. In this last section, we will present this possibility with the [synqs provider](https://qsimsim.synqs.org) . \n",
    "\n",
    "<div class=\"alert alert-block alert-info\">\n",
    "<b>Note:</b> To run the cells in this part of the tutorial that interface with a remote device backend, you'll need to have a registered account with a valid username and password for this provider which can be obtained at the URL linked above.</div>"
   ]
  },
  {
   "cell_type": "markdown",
   "metadata": {},
   "source": [
    "In a first step, it is necessary to import the cold atom provider."
   ]
  },
  {
   "cell_type": "code",
   "execution_count": 14,
   "metadata": {},
   "outputs": [],
   "source": [
    "from qiskit_cold_atom.providers import ColdAtomProvider\n",
    "from qiskit.circuit import QuantumCircuit, Parameter"
   ]
  },
  {
   "cell_type": "markdown",
   "metadata": {},
   "source": [
    "Saving/enabling your synqs backend credentials (Optional if not alreayd done)."
   ]
  },
  {
   "cell_type": "code",
   "execution_count": 15,
   "metadata": {},
   "outputs": [],
   "source": [
    "%load_ext autoreload\n",
    "%autoreload 2"
   ]
  },
  {
   "cell_type": "code",
   "execution_count": 16,
   "metadata": {},
   "outputs": [],
   "source": [
    "# save an account to disk\n",
    "# provider = ColdAtomProvider.save_account(\n",
    "#     url=[\n",
    "#         \"http://qsimsim.synqs.org/singlequdit\",\n",
    "#         \"http://qsimsim.synqs.org/multiqudit\",\n",
    "#         \"http://qsimsim.synqs.org/fermions\",\n",
    "#     ],\n",
    "#     username=\"name\",\n",
    "#     token=\"password\",\n",
    "# )\n",
    "# provider = ColdAtomProvider.load_account()\n",
    "\n",
    "# or enable an account in the current session\n",
    "provider = ColdAtomProvider.enable_account(\n",
    "    url=[\n",
    "        # \"http://qsimsim.synqs.org/singlequdit\",\n",
    "        # \"http://qsimsim.synqs.org/multiqudit\",\n",
    "        \"http://qsimsim.synqs.org/api/fermions\",\n",
    "    ],\n",
    "    username=\"LaurinFischer\",\n",
    "    token=\"Ru8Fxet6easZvdq\",\n",
    ")"
   ]
  },
  {
   "cell_type": "code",
   "execution_count": 17,
   "metadata": {},
   "outputs": [
    {
     "data": {
      "text/plain": [
       "[<FermionSimulator('fermion_simulator')>,\n",
       " <SpinSimulator('spin_simulator')>,\n",
       " <FermionicTweezerSimulator('fermionic_tweezer_simulator')>,\n",
       " <CollectiveSpinSimulator('collective_spin_simulator')>,\n",
       " <RemoteFermionBackend('synqs_fermionic_tweezer_simulator')>]"
      ]
     },
     "execution_count": 17,
     "metadata": {},
     "output_type": "execute_result"
    }
   ],
   "source": [
    "provider.backends()"
   ]
  },
  {
   "cell_type": "markdown",
   "metadata": {},
   "source": [
    "We can now access the remote fermionic simulator."
   ]
  },
  {
   "cell_type": "code",
   "execution_count": 18,
   "metadata": {},
   "outputs": [
    {
     "name": "stdout",
     "output_type": "stream",
     "text": [
      "['load', 'measure', 'barrier', 'fhop', 'fint', 'fphase']\n"
     ]
    }
   ],
   "source": [
    "fermion_device_backend = provider.get_backend(\"synqs_fermionic_tweezer_simulator\")\n",
    "print(fermion_device_backend.configuration().supported_instructions)"
   ]
  },
  {
   "cell_type": "markdown",
   "metadata": {},
   "source": [
    "__Note: synqs' fermion backend uses a different notation convention for the spin species in a fermionic circuit, where the spin-up and spin-down wires alternate.__"
   ]
  },
  {
   "cell_type": "markdown",
   "metadata": {},
   "source": [
    "### No interaction\n",
    "In a first set of experiments there are no interactions and the two atoms are simply allowed to hop. The experiment is then described by the following, simple circuit."
   ]
  },
  {
   "cell_type": "code",
   "execution_count": 23,
   "metadata": {},
   "outputs": [],
   "source": [
    "theta_j = Parameter(\"theta_j\")"
   ]
  },
  {
   "cell_type": "code",
   "execution_count": 24,
   "metadata": {},
   "outputs": [],
   "source": [
    "# the parameters of the experiment\n",
    "J = np.pi * 134\n",
    "Ntimes = 15\n",
    "times = np.linspace(0, 20, Ntimes) * 1e-3\n",
    "theta_js = -1 * J * times\n",
    "means = np.zeros(Ntimes)"
   ]
  },
  {
   "cell_type": "code",
   "execution_count": null,
   "metadata": {},
   "outputs": [],
   "source": [
    "circuit1 = QuantumCircuit(8, 8)\n",
    "circuit1.load_fermions(0)\n",
    "circuit1.load_fermions(1)\n",
    "circuit1.hop_fermions([theta_j], [0, 1, 4, 5])\n",
    "circuit1.measure(2, 2)\n",
    "circuit1.measure(3, 3)\n",
    "circuit1.draw(output=\"mpl\")"
   ]
  },
  {
   "cell_type": "code",
   "execution_count": 22,
   "metadata": {},
   "outputs": [
    {
     "data": {
      "text/plain": [
       "{'backend_name': 'synqs_fermionic_tweezer_simulator',\n",
       " 'backend_version': '0.0.1',\n",
       " 'n_qubits': 8,\n",
       " 'basis_gates': ['fhop', 'fint', 'fphase'],\n",
       " 'gates': [{'name': 'fhop',\n",
       "   'parameters': ['j_i'],\n",
       "   'qasm_def': '{}',\n",
       "   'coupling_map': [[0, 1, 2, 3],\n",
       "    [2, 3, 4, 5],\n",
       "    [4, 5, 6, 7],\n",
       "    [0, 1, 2, 3, 4, 5, 6, 7]],\n",
       "   'description': 'hopping of atoms to neighboring tweezers'},\n",
       "  {'name': 'fint',\n",
       "   'parameters': ['u'],\n",
       "   'qasm_def': '{}',\n",
       "   'coupling_map': [[0, 1, 2, 3, 4, 5, 6, 7]],\n",
       "   'description': 'on-site interaction of atoms of opposite spin state'},\n",
       "  {'name': 'fphase',\n",
       "   'parameters': ['mu_i'],\n",
       "   'qasm_def': '{}',\n",
       "   'coupling_map': [[0, 1], [2, 3], [4, 5], [6, 7], [0, 1, 2, 3, 4, 5, 6, 7]],\n",
       "   'description': 'Applying a local phase to tweezers through an external potential'}],\n",
       " 'local': False,\n",
       " 'simulator': True,\n",
       " 'conditional': False,\n",
       " 'open_pulse': False,\n",
       " 'memory': True,\n",
       " 'max_shots': 1000000.0,\n",
       " 'coupling_map': 'linear',\n",
       " 'dynamic_reprate_enabled': False,\n",
       " 'supported_instructions': ['load',\n",
       "  'measure',\n",
       "  'barrier',\n",
       "  'fhop',\n",
       "  'fint',\n",
       "  'fphase'],\n",
       " 'max_experiments': 50,\n",
       " 'description': 'simulator of a fermionic tweezer hardware. The even wires  denote the occupations of the spin-up fermions and the odd wires denote the spin-down fermions',\n",
       " 'cold_atom_type': 'fermion',\n",
       " 'url': 'http://coquma-sim.herokuapp.com/api/fermions/',\n",
       " 'wire_order': 'interleaved'}"
      ]
     },
     "execution_count": 22,
     "metadata": {},
     "output_type": "execute_result"
    }
   ],
   "source": [
    "fermion_device_backend.configuration().to_dict()"
   ]
  },
  {
   "cell_type": "code",
   "execution_count": 23,
   "metadata": {},
   "outputs": [],
   "source": [
    "circuit1_list = [circuit1.bind_parameters({theta_j: theta % (2 * np.pi)}) for theta in theta_js]"
   ]
  },
  {
   "cell_type": "code",
   "execution_count": 24,
   "metadata": {},
   "outputs": [],
   "source": [
    "job1 = fermion_device_backend.run(circuit1_list, shots=10)"
   ]
  },
  {
   "cell_type": "code",
   "execution_count": 33,
   "metadata": {},
   "outputs": [
    {
     "data": {
      "text/plain": [
       "<JobStatus.ERROR: 'job incurred error'>"
      ]
     },
     "execution_count": 33,
     "metadata": {},
     "output_type": "execute_result"
    }
   ],
   "source": [
    "job1.status()"
   ]
  },
  {
   "cell_type": "code",
   "execution_count": 34,
   "metadata": {},
   "outputs": [
    {
     "data": {
      "text/plain": [
       "\"None; Failed json sanity check. File will be deleted. Error message : 'sequential' is not one of ['interleaved']....Failed validating 'enum' in schema['properties']['wire_order']:..    {'enum': ['interleaved'], 'type': 'string'}....On instance['wire_order']:..    'sequential'\""
      ]
     },
     "execution_count": 34,
     "metadata": {},
     "output_type": "execute_result"
    }
   ],
   "source": [
    "job1.error_message()"
   ]
  },
  {
   "cell_type": "code",
   "execution_count": 14,
   "metadata": {},
   "outputs": [
    {
     "name": "stdout",
     "output_type": "stream",
     "text": [
      "job status:  JobStatus.INITIALIZING\n"
     ]
    }
   ],
   "source": [
    "job_retrieved1 = fermion_device_backend.retrieve_job(job_id=job1.job_id())\n",
    "\n",
    "print(\"job status: \", job_retrieved1.status())"
   ]
  },
  {
   "cell_type": "code",
   "execution_count": null,
   "metadata": {},
   "outputs": [],
   "source": [
    "result1 = job_retrieved1.result()"
   ]
  },
  {
   "cell_type": "code",
   "execution_count": null,
   "metadata": {},
   "outputs": [],
   "source": [
    "outcomes1 = [result1.get_memory(i) for i in range(len(circuit1_list))]"
   ]
  },
  {
   "cell_type": "code",
   "execution_count": null,
   "metadata": {},
   "outputs": [],
   "source": [
    "for i in range(Ntimes):\n",
    "    means[i] = np.array(list(map(str.split, outcomes1[i]))).astype(\"int\").sum(axis=1).mean()"
   ]
  },
  {
   "cell_type": "code",
   "execution_count": null,
   "metadata": {},
   "outputs": [],
   "source": [
    "f, ax1 = plt.subplots(1, 1, sharex=True, sharey=True)\n",
    "ax1.plot(times * 1e3, means, \"r-\", label=\"Qiskit\", linewidth=4, alpha=0.5)\n",
    "ax1.plot(no_int_time, no_int_nR, \"ro\", label=\"U = 0\", markersize=4)\n",
    "ax1.set_ylabel(r\"atoms in right valley\")\n",
    "ax1.set_xlabel(r\"time (ms)\")\n",
    "ax1.legend()\n",
    "ax1.set_xlim(0, 20);"
   ]
  },
  {
   "cell_type": "markdown",
   "metadata": {},
   "source": [
    "### Hopping with interactions\n",
    "\n",
    "In a next step, the atoms are interacting.\n",
    "As you can see, this backend is only implementing a limited set of gates. \n",
    "To simulate the simultaneous hopping and interaction, the circuit has to be trotterized."
   ]
  },
  {
   "cell_type": "code",
   "execution_count": null,
   "metadata": {},
   "outputs": [],
   "source": [
    "theta_j = Parameter(\"theta_j\")\n",
    "theta_u = Parameter(\"theta_u\")\n",
    "\n",
    "# the parameters of the experiment\n",
    "J = np.pi * 134\n",
    "U = 0.7 * J\n",
    "Ntimes = 15\n",
    "times = np.linspace(0, 20, Ntimes) * 1e-3\n",
    "theta_js = -1 * J * times\n",
    "theta_us = U * times\n",
    "means_int = np.zeros(Ntimes)\n",
    "Ntrott = 15"
   ]
  },
  {
   "cell_type": "code",
   "execution_count": null,
   "metadata": {},
   "outputs": [],
   "source": [
    "circuit2 = QuantumCircuit(8, 8)\n",
    "circuit2.load_fermions(0)\n",
    "circuit2.load_fermions(1)\n",
    "for ii in range(Ntrott):\n",
    "    circuit2.hop_fermions([theta_j], list(range(0, 4)))\n",
    "    circuit2.int_fermions(theta_u, list(range(0, 8)))\n",
    "circuit2.measure(2, 2)\n",
    "circuit2.measure(3, 3)\n",
    "circuit2.draw(output=\"mpl\")"
   ]
  },
  {
   "cell_type": "markdown",
   "metadata": {},
   "source": [
    "next we set up the circuits that calculate each time step and send it to the backend"
   ]
  },
  {
   "cell_type": "code",
   "execution_count": null,
   "metadata": {},
   "outputs": [],
   "source": [
    "circuit2_list = [\n",
    "    circuit2.bind_parameters(\n",
    "        {\n",
    "            theta_j: (theta1 / Ntrott) % (2 * np.pi),\n",
    "            theta_u: (theta2 / Ntrott) % (2 * np.pi),\n",
    "        }\n",
    "    )\n",
    "    for (theta1, theta2) in zip(theta_js, theta_us)\n",
    "]\n",
    "job2 = fermion_device_backend.run(circuit2_list, shots=500)"
   ]
  },
  {
   "cell_type": "markdown",
   "metadata": {},
   "source": [
    "You can now save the job and wait until the job status has changed to done. "
   ]
  },
  {
   "cell_type": "code",
   "execution_count": null,
   "metadata": {},
   "outputs": [],
   "source": [
    "job_retrieved2 = fermion_device_backend.retrieve_job(job_id=job2.job_id())\n",
    "print(\"job status: \", job_retrieved2.status())"
   ]
  },
  {
   "cell_type": "markdown",
   "metadata": {},
   "source": [
    "Once the job is done, we can obtain once again the usual results, which are saved on the backend."
   ]
  },
  {
   "cell_type": "code",
   "execution_count": null,
   "metadata": {},
   "outputs": [],
   "source": [
    "result2 = job_retrieved2.result()\n",
    "outcomes2 = [result2.get_memory(i) for i in range(len(circuit2_list))]\n",
    "for i in range(Ntimes):\n",
    "    means_int[i] = np.array(list(map(str.split, outcomes2[i]))).astype(\"int\").sum(axis=1).mean()\n",
    "\n",
    "\n",
    "f, ax2 = plt.subplots(1, 1, sharex=True, sharey=True)\n",
    "\n",
    "ax2.plot(times * 1e3, means_int, \"b.-\", label=\"Qiskit simulation\", linewidth=4, alpha=0.5)\n",
    "ax2.plot(\n",
    "    with_int_time,\n",
    "    with_int_nR,\n",
    "    \"bo\",\n",
    "    label=\"experimental data\",\n",
    "    markersize=4,\n",
    ")\n",
    "ax2.set_ylabel(r\"atoms in right valley\")\n",
    "ax2.set_xlabel(r\"time (ms)\")\n",
    "ax2.legend()\n",
    "ax2.set_xlim(0, 20)"
   ]
  },
  {
   "cell_type": "markdown",
   "metadata": {},
   "source": [
    "## References\n",
    "\n",
    "[1] [Simon Murmann et al.](https://journals.aps.org/prl/abstract/10.1103/PhysRevLett.114.080402) *Two Fermions in a Double Well: Exploring a Fundamental Building Block of the Hubbard Model*. Phys. Rev. Lett. 114, 080402 (2015)."
   ]
  },
  {
   "cell_type": "code",
   "execution_count": null,
   "metadata": {},
   "outputs": [],
   "source": [
    "import qiskit.tools.jupyter\n",
    "\n",
    "%qiskit_version_table"
   ]
  }
 ],
 "metadata": {
  "kernelspec": {
   "display_name": "Python 3 (ipykernel)",
   "language": "python",
   "name": "python3"
  },
  "language_info": {
   "codemirror_mode": {
    "name": "ipython",
    "version": 3
   },
   "file_extension": ".py",
   "mimetype": "text/x-python",
   "name": "python",
   "nbconvert_exporter": "python",
   "pygments_lexer": "ipython3",
   "version": "3.9.7"
  }
 },
 "nbformat": 4,
 "nbformat_minor": 4
}
