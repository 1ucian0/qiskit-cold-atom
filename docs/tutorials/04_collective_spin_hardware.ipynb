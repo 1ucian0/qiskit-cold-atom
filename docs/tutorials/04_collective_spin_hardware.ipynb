{
 "cells": [
  {
   "cell_type": "markdown",
   "id": "80b279ab-990a-4685-9012-cd2c16e42724",
   "metadata": {
    "tags": []
   },
   "source": [
    "# Collective Spin Hardware"
   ]
  },
  {
   "cell_type": "markdown",
   "id": "e57c3232-f640-47c8-8ea4-64e84d6c4229",
   "metadata": {},
   "source": [
    "## Experimental system\n",
    "\n",
    "In this tutorial, we show how the spin circuit setting, introduced in the [second tutorial](./02_spin_circuits.ipynb), can describe a realistic cold atomic experimental setup based on spins as a backend in Qiskit-cold-atom. We call this setting the \"collective spin hardware\"."
   ]
  },
  {
   "cell_type": "markdown",
   "id": "4fcc0899-26e3-46e8-a2fd-57311808556d",
   "metadata": {},
   "source": [
    "Collective spins can be experimentally realized by trapping a cloud of bosonic atoms with two internal states (denoted $\\uparrow$ and $\\downarrow$) i.e. effective spin-$\\frac{1}{2}$-systems in a Bose-Einstein-Condensate (BEC) [1]. Due to their bosonic indistinguishability, the state of $N$ such spin-$\\frac{1}{2}$ particles can be described as the state of one long angular momentum (or \"spin\") of length $L=\\frac{N}{2}$ [1]. This so-called \"collective spin\" has $2L+1$ internal states which are the eigenstates of the projection onto the quantization axis $L_z$. \n",
    "\n",
    "\n",
    "Multiple collective spins can be realized by having atoms trapped in multiple lattice sites or optical tweezers, where the atoms in each tweezer form a BEC. If all atoms are spin-$\\uparrow$, their collective spin will be at its maximal value $L_z = \\frac{N}{2}$, whereas if all atoms are spin-$\\downarrow$, their collective spin will be at is minimal value $L_z = -\\frac{N}{2}$. The value of $L_z$ thus corresponds to the value of half the number of atoms in the $\\uparrow$-state minus half the number of atoms in the $\\downarrow$-state: $L_z = \\frac{N_\\uparrow - N_\\downarrow}{2}$. \n",
    "This is shown schematically in the figure below where each dot corresponds to an atom whose internal state is indicated by the color.\n",
    "\n",
    "<img src=\"aux_files/collective_spin_array.png\" width=\"800\">"
   ]
  },
  {
   "cell_type": "markdown",
   "id": "1873554e-d66e-49b8-9639-1c42796ca109",
   "metadata": {},
   "source": [
    "The arrows below the tweezers indicate the \"orientation\" of the spin which can take one of the $N+1$ discrete values indicated by the dashed lines. \n",
    "\n",
    "By tuning the number of atoms loaded into each tweezer in the state preparation step, the length of the collective spin $L$ can be controlled. "
   ]
  },
  {
   "cell_type": "markdown",
   "id": "60b54904-5d15-4ab7-87a0-ee1120a2cc92",
   "metadata": {},
   "source": [
    "## Circuit description\n",
    "\n",
    "Each collective spin will be assigned one wire in the circuit. \n",
    "\n",
    "### Initialization\n",
    "Instead of labeling the individual states from $ \\left| -\\frac{N}{2} \\right>$ to $\\left| \\frac{N}{2} \\right>$, we label them from $\\left| 0 \\right>$ to $\\left| N+1 \\right>$ which is closer to the language used in quantum information. \n",
    "\n",
    "Similar to qubits, the state of the individual collective spins is initialized in $\\left| 0 \\right>$, that is all individual atoms are aligned in the $\\uparrow$-direction. \n",
    "\n",
    "The [ColdAtomProvider](./05_cold_atom_provider.ipynb) includes the backend to simulate the collective spins hardware:"
   ]
  },
  {
   "cell_type": "code",
   "execution_count": null,
   "id": "97f3e725-b554-4d52-922a-29c01235fc1b",
   "metadata": {},
   "outputs": [],
   "source": [
    "from qiskit_cold_atom.providers import ColdAtomProvider\n",
    "\n",
    "provider = ColdAtomProvider()\n",
    "backend = provider.get_backend(\"collective_spin_simulator\")"
   ]
  },
  {
   "cell_type": "markdown",
   "id": "0b654406-529d-44d5-bdad-6ca85af5997a",
   "metadata": {},
   "source": [
    "### Readout\n",
    "\n",
    "Upon readout, each wire is projected onto the eigenstates of $L_z$. Experimentally, this is accomplished by counting the number of atoms found in each of the two spin states $N_\\uparrow$ and $N_\\downarrow$.  "
   ]
  },
  {
   "cell_type": "markdown",
   "id": "ee4c180e-13e9-4ebe-8247-b063d19b743c",
   "metadata": {},
   "source": [
    "### Gates and dynamics\n",
    "\n",
    "As laid out in the introductory notebook, within Qiskit-cold-atom, the unitary gates available in the hardware are described by their generating Hamiltonian.\n",
    "\n",
    "#### Single-spin gates\n",
    "The physical dynamics of the individual collective spins in this hardware are described by a so-called _one-axis-twisting_ Hamiltonian [2]:\n",
    "\n",
    "$$ H_{\\text{OAT}}(\\chi, \\Delta, \\omega) = \\sum_{i=1}^3 \\chi_i L_{z, i}^2 + \\Delta_i L_{z, i} + \\Omega_i L_{x, i}$$"
   ]
  },
  {
   "cell_type": "markdown",
   "id": "07cac761-7fc6-4252-a61f-17c1b389a513",
   "metadata": {},
   "source": [
    "Here, $i$ indexes the tweezer mode. \n",
    "\n",
    "- The first term parameterized by the couplings $\\chi$ stems from the interactions of the particles which can be switched on and off.\n",
    "- The second term generates rotations of the long spin around the $z$-axis which can be controlled by a magnetic field through the parameter $\\Delta$.\n",
    "- The third term arises from a Rabi coupling $\\Omega$ of the two internal spin states of the atoms, generating a rotation around the x-axis of the collective spin.\n",
    "\n",
    "Having individual control over the parameters $\\chi, \\Delta, \\Omega$ allows to generate all single-spin unitaries [1]. \n",
    "We can thus use this Hamiltonian to define a set of unitary quantum gates on a single wire. By choosing specific values $\\{\\chi_i, \\Delta_i, \\Omega_i\\}$, the unitary of the gate is defined as $U_{\\text{OAT}} = e^{-i H_{\\text{OAT}}(\\chi_i, \\Delta_i, \\Omega_i)}$.\n",
    "\n",
    "Let's look at a first example circuit where a one-axis-twisting gate is applied to a single collective spin:"
   ]
  },
  {
   "cell_type": "code",
   "execution_count": null,
   "id": "32f3c8ad-4d34-449e-9928-7a650c20a3f0",
   "metadata": {},
   "outputs": [],
   "source": [
    "from qiskit import QuantumCircuit\n",
    "from qiskit_cold_atom.spins.spins_gate_library import OATGate\n",
    "from qiskit.visualization import plot_histogram\n",
    "\n",
    "qc = QuantumCircuit(1)\n",
    "\n",
    "qc.append(OATGate(chi=0.4, delta=-1., omega=2.), qargs=[0])\n",
    "\n",
    "# alternatively append the OAT gate directly:\n",
    "# qc.oat(chi=0.4, delta=-1., omega=2., wire=0)\n",
    "\n",
    "qc.measure_all()\n",
    "\n",
    "# simulate the circuit with a spin length L=5\n",
    "counts = backend.run(qc, spin=5).result().get_counts()\n",
    "# convert counts to integers for better formatting\n",
    "plot_histogram({int(k):v for k,v in counts.items()})"
   ]
  },
  {
   "cell_type": "markdown",
   "id": "bff0cae2-8c6d-4eee-bbe1-22614e6e3cdb",
   "metadata": {},
   "source": [
    "This gate creates a complicated superposition of the individual levels of the collective spin.\n",
    "\n",
    "Similar to the [fermionic gateset](./03_fermionic_tweezer_hardware.ipynb) built up from Fermi-Hubbard interactions, we can separate the different terms in the one-axis-twisting Hamiltonian to define gates with a more refined behaviour:\n",
    "\n",
    "- An `LXGate` with unitary $U_{\\text{LX}}(\\Omega) = U_{\\text{OAT}}(\\chi=0, \\Delta=0, \\Omega)$ describing rotations around the collective spin's x-axis\n",
    "- A `LZGate` with unitary $U_{\\text{LZ}}(\\Delta) = U_{\\text{OAT}}(\\chi=0, \\Delta, \\Omega=0)$ describing rotations around the collective spin's z-axis\n",
    "- A `LZ2Gate` with unitary $U_{\\text{LZ2}}(\\chi) = U_{\\text{OAT}}(\\chi, \\Delta=0, \\Omega=0)$ describing a non-linear \"spin-squeezing\" dynamic"
   ]
  },
  {
   "cell_type": "markdown",
   "id": "99f0ee8d-3734-44dc-adb0-9b22963e0c5f",
   "metadata": {},
   "source": [
    "These gates are available as `SpinGates` from the `spin_gate_library`. As detailed in the introduction notebook, these gates have their generating Hamiltonians defined as a `SpinOp`:"
   ]
  },
  {
   "cell_type": "code",
   "execution_count": null,
   "id": "b9d4f41c-0299-4646-90ae-c2e4d388227d",
   "metadata": {},
   "outputs": [],
   "source": [
    "from qiskit_cold_atom.spins.spins_gate_library import LXGate, LZGate, LZ2Gate\n",
    "print(\"LX generator: \\n\", LXGate(0.5).generator)\n",
    "print(\"LZ generator: \\n\", LZGate(1.).generator)\n",
    "print(\"LZ2 generator: \\n\", LZ2Gate(1.5).generator)"
   ]
  },
  {
   "cell_type": "markdown",
   "id": "6dd826b1-3735-4397-864d-b9f337d56c84",
   "metadata": {},
   "source": [
    "#### Rabi oscillations:\n",
    "\n",
    "The `LXGate` is sufficient to generate Rabi-oscillations of individual collective spins. For Rabi oscilattions, we create a list of circuits with increasing angles $\\Omega$ in the LX-gate used above. These can be sent to the backend in a single job:"
   ]
  },
  {
   "cell_type": "code",
   "execution_count": null,
   "id": "d7bbb041-e811-4b27-8b18-f63e89fe20ff",
   "metadata": {},
   "outputs": [],
   "source": [
    "from qiskit.circuit import Parameter\n",
    "import matplotlib.pyplot as plt\n",
    "import numpy as np\n",
    "\n",
    "# lenght of spin for the simulation\n",
    "spin = 20\n",
    "\n",
    "# sample at 50 angles between 0 and 4*pi\n",
    "vals = 50\n",
    "angles = np.linspace(0, 4*np.pi, vals)\n",
    "\n",
    "omega = Parameter(\"omega\")\n",
    "# create list of circuits\n",
    "circuit = QuantumCircuit(1, 1)\n",
    "circuit.lx(omega, 0)\n",
    "circuit.measure(0, 0)\n",
    "\n",
    "rabi_list = [circuit.bind_parameters([angle]) for angle in angles]\n",
    "\n",
    "job_rabi = backend.run(rabi_list, shots = 10, spin = spin, seed=5462)\n",
    "result_rabi = job_rabi.result()\n",
    "\n",
    "outcomes = np.array([np.array(result_rabi.get_memory(i), dtype=float) for i in range(vals)])\n",
    "plt.errorbar(angles, np.mean(outcomes, axis=1), yerr=np.std(outcomes, axis=1), fmt='o', color=\"#4589ff\")\n",
    "plt.title(f\"Rabi oscillations for a single collective spin of length L = {spin}\")\n",
    "plt.ylabel(\"measurement outcome\")\n",
    "plt.xlabel(\"angle of x-rotation\")\n",
    "plt.show()"
   ]
  },
  {
   "cell_type": "markdown",
   "id": "bbfc8567-202e-4100-8fab-40378294ac1c",
   "metadata": {},
   "source": [
    "The `LXGate` takes the collective spin from its initial position at $\\left| 0 \\right>$ all the way to its maximum value $\\left| 2L \\right>$ and back. In between, the errorbars on the measurement outcomes are larger indicating a larger spread in the measurement distributions. As we saw in the introduction to spin circuits tutorial, this is due to the binomial distribution of measurement outcomes generated by a single rotation. \n",
    "\n",
    "This spread can be decreased by a phenomenom called [spin squeezing](https://en.wikipedia.org/wiki/Spin_squeezing), which can be engineered with the `LZ2Gate2`. In a spin-squeezed state, the variance in one spin projection is reduced at the cost of increasing the spread in another spin direction. This can be useful for quantum metrology applications [3]. \n",
    "\n",
    "#### Spin squeezing\n",
    "\n",
    "To observe spin squeezing, we implement the following sequence: \n",
    "- The state is rotated onto the y-axis by the LX gate. \n",
    "- This state is spin-squeezed by applying LZ2.\n",
    "- To \"see\" the squeezing in the computational ($L_z$) basis we rotate the squeezed state along the y-axis which is done by a z- and x-rotation"
   ]
  },
  {
   "cell_type": "code",
   "execution_count": null,
   "id": "24a3043a-0a49-4174-920e-d1877106fb11",
   "metadata": {},
   "outputs": [],
   "source": [
    "# circuit with spin squeezing\n",
    "squeez_circ = QuantumCircuit(1, 1)\n",
    "squeez_circ.lx(-np.pi/2, 0)\n",
    "squeez_circ.lz2(0.3, 0)\n",
    "squeez_circ.lz(-np.pi/2, 0)\n",
    "squeez_circ.lx(-0.15, 0)\n",
    "squeez_circ.measure(0, 0)\n",
    "\n",
    "job_squeez = backend.run(squeez_circ, shots = 1000, spin=20, seed=14)\n",
    "\n",
    "squeez_circ.draw(output='mpl')"
   ]
  },
  {
   "cell_type": "code",
   "execution_count": null,
   "id": "c02f4e8b-e7ee-4909-90b1-35dd16bdb98c",
   "metadata": {},
   "outputs": [],
   "source": [
    "# for comparison: circuit with a single rotation\n",
    "circ_x = QuantumCircuit(1, 1)\n",
    "circ_x.lx(np.pi/2, 0)\n",
    "circ_x.measure_all()\n",
    "\n",
    "job_x = backend.run(circ_x, shots = 1000, spin=20, seed=14)\n",
    "\n",
    "fig, (ax1, ax2) = plt.subplots(2, figsize=(10,8))\n",
    "fig.tight_layout(pad=5.0)\n",
    "ax1.set_title(\"spin squeezing circuit\")\n",
    "ax2.set_title(\"single rotation circuit\")\n",
    "\n",
    "plot_histogram(job_squeez.result().get_counts(), ax=ax1, color=\"#9f1853\") #, number_to_keep=10)\n",
    "plot_histogram(job_x.result().get_counts(), ax=ax2) #, number_to_keep=10)"
   ]
  },
  {
   "cell_type": "markdown",
   "id": "811ff2c8-8747-4347-87be-410d075d73a7",
   "metadata": {},
   "source": [
    "The spin squeezing generated by the $LZ2$-gate is a vital tool in this architecture to amplify the amplitude of a target state, such as \"20\" in the above example. "
   ]
  },
  {
   "cell_type": "markdown",
   "id": "5e23a95a-9447-492f-93ab-417d0f17d68e",
   "metadata": {},
   "source": [
    "#### Multiple-spin gates\n",
    "\n",
    "Interactions between the collective spins in the individual tweezers can be mediated through collisions with a second species of atoms present in an overlapping trap [1]. In the setting we employ here, this results in an interaction which implements the spin-analogue of a ZZ-rotation with a generating Hamiltonian\n",
    "\n",
    "$$ H_{int}(\\gamma) = \\gamma L_{z, i} L_{z, j} $$\n",
    "\n",
    "where $i$ and $j$ are the indices of the coupled tweezers. This can be used to create entanglement between two collective spins:"
   ]
  },
  {
   "cell_type": "code",
   "execution_count": null,
   "id": "c41a2e9f-23e2-48b0-b13a-789a3887bd29",
   "metadata": {},
   "outputs": [],
   "source": [
    "from qiskit_cold_atom.spins.spins_gate_library import LZZGate\n",
    "\n",
    "qc = QuantumCircuit(2)\n",
    "\n",
    "qc.lx(np.pi/2, [0, 1])\n",
    "\n",
    "qc.append(LZZGate(gamma=np.pi), [0, 1])\n",
    "# alternatively, apply the LZZGate directly through a shortcut\n",
    "# qc.lzz(np.pi, [0, 1])\n",
    "\n",
    "qc.lx(np.pi/2, [0, 1])\n",
    "\n",
    "qc.measure_all()\n",
    "\n",
    "plot_histogram(backend.run(qc, spin=2).result().get_counts())"
   ]
  },
  {
   "cell_type": "markdown",
   "id": "0a2128be-81ef-4cc3-8ad0-2fbda0d79d27",
   "metadata": {},
   "source": [
    "The state we have created here can be seen as the generalization of a Bell state of two qubits, which we can verify if we run the simulation with a single atom, i.e. spin length $\\frac{1}{2}$:"
   ]
  },
  {
   "cell_type": "code",
   "execution_count": null,
   "id": "14cdb96e-7647-4cbc-b124-7d7ee8eb63a9",
   "metadata": {},
   "outputs": [],
   "source": [
    "plot_histogram(backend.run(qc, spin=1/2).result().get_counts())"
   ]
  },
  {
   "cell_type": "markdown",
   "id": "432fc57e-7ef9-49e5-a6a6-36dbdf8ce1dd",
   "metadata": {},
   "source": [
    "## Description as a backend\n",
    "\n",
    "The framework describing the collective spin hardware is implemented as a dedicated _backend_.\n",
    "\n",
    "We could have also run the circuits above on the generic `SpinSimulator` backend. However, by defining a specific `CollectiveSpinSimulator` backend, we have a direct way of describing the accepted gates, size and other settings of this specific system in the backend's _configuration_. \n",
    "\n",
    "The backend configuration explicitly states which instructions are accepted and in what way these instructions can be applied to the spin register. The latter is achieved through _coupling maps_ which define the accepted wiring for all gates. For reference, here is the entire configuration of the `CollectiveSpinSimulator`:"
   ]
  },
  {
   "cell_type": "code",
   "execution_count": null,
   "id": "40beeccc-aec9-4f96-93f1-4717ec9165bc",
   "metadata": {},
   "outputs": [],
   "source": [
    "from pprint import pprint\n",
    "\n",
    "collective_spins_configuration = backend.configuration().to_dict()\n",
    "\n",
    "pprint(collective_spins_configuration)"
   ]
  },
  {
   "cell_type": "markdown",
   "id": "64fa14f2-9b53-40bc-9fc4-74bc96967f73",
   "metadata": {},
   "source": [
    "Note how each gate has a custom coupling map which defines the allowed wire indices with which the gate can be added to the circuit.\n",
    "\n",
    "Apart from that, the `CollectiveSpinSimulator` inherits all functionality of the generic `SpinSimulator` such as retrieving the statevector and the unitary."
   ]
  },
  {
   "cell_type": "markdown",
   "id": "4f9a7dc1-cc4d-4977-b62d-190e90d5b517",
   "metadata": {},
   "source": [
    "## Outlook\n",
    "\n",
    "The collective spin simulator backend can be used as a tool to study what kind of quantum computations can be performed in a realistic experimental hardware based on spins as the carriers of quantum information. This collective spin setting is particularly interesting as its gateset forms a universal set on the Hilbert space of the collective spins and could implement error correction when encoding a qubit in each collective spin [2].\n",
    "\n",
    "The supported functionality for spin circuits in Qiskit-cold-atom can in principle be utilized to describe a larger class of spin setups, i.e. other trap- or lattice-based architectures that can deterministically prepare, manipulate and measure individual spins encoded in bosonic atoms. Such experiments might have different underlying Hamiltonian dynamics, number of atomic species, available gates and coupling maps. \n",
    "\n",
    "This tutorial is just one example showing how Qiskit can be used to build a backend for a specific experimental setting that greatly differs from superconducting-qubit-based quantum computers. \n",
    "\n",
    "Interested users are encouraged to explore spin circuits and backend configurations for other setups."
   ]
  },
  {
   "cell_type": "markdown",
   "id": "d27bd054-76a9-4708-86f4-27286b82d5ce",
   "metadata": {},
   "source": [
    "## References\n",
    "[1] Gross, Christian *Spin squeezing, entanglement and quantum metrology with Bose–Einstein condensates* Journal of Physics B: Atomic, Molecular and Optical Physics. 45 (10):103001\n",
    "\n",
    "[2] Kasper, Valentin et al., *Universal quantum computation and quantum error correction with ultracold atomic mixtures*, arXiv preprint arXiv:2010.15923, 2020\n",
    "\n",
    "[3] Strobel, Helmut et al. *Fisher information and entanglement of non-Gaussian spin states*, Science, 345(6195):424–427, 2014"
   ]
  },
  {
   "cell_type": "code",
   "execution_count": null,
   "id": "06923ad1-9327-41eb-8d3e-a23e30539b16",
   "metadata": {},
   "outputs": [],
   "source": [
    "import qiskit.tools.jupyter\n",
    "%qiskit_version_table\n",
    "%qiskit_copyright"
   ]
  }
 ],
 "metadata": {
  "kernelspec": {
   "display_name": "Python 3",
   "language": "python",
   "name": "python3"
  },
  "language_info": {
   "codemirror_mode": {
    "name": "ipython",
    "version": 3
   },
   "file_extension": ".py",
   "mimetype": "text/x-python",
   "name": "python",
   "nbconvert_exporter": "python",
   "pygments_lexer": "ipython3",
   "version": "3.9.5"
  }
 },
 "nbformat": 4,
 "nbformat_minor": 5
}
